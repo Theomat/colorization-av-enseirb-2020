{
  "nbformat": 4,
  "nbformat_minor": 0,
  "metadata": {
    "colab": {
      "name": "Super sampling.ipynb",
      "provenance": []
    },
    "kernelspec": {
      "name": "python3",
      "display_name": "Python 3"
    }
  },
  "cells": [
    {
      "cell_type": "markdown",
      "metadata": {
        "id": "XdYbLl3rxYUN"
      },
      "source": [
        "# File manipulation"
      ]
    },
    {
      "cell_type": "code",
      "metadata": {
        "colab": {
          "base_uri": "https://localhost:8080/"
        },
        "id": "p1DDqUK7tgeL",
        "outputId": "ae1987f8-bd60-4577-bb8e-8065f80b855e"
      },
      "source": [
        "!wget https://github.com/Saafke/EDSR_Tensorflow/raw/master/models/EDSR_x2.pb\r\n",
        "!wget https://github.com/fannymonori/TF-LapSRN/raw/master/export/LapSRN_x2.pb"
      ],
      "execution_count": null,
      "outputs": [
        {
          "output_type": "stream",
          "text": [
            "--2021-01-16 15:56:11--  https://github.com/Saafke/EDSR_Tensorflow/raw/master/models/EDSR_x2.pb\n",
            "Resolving github.com (github.com)... 140.82.112.3\n",
            "Connecting to github.com (github.com)|140.82.112.3|:443... connected.\n",
            "HTTP request sent, awaiting response... 302 Found\n",
            "Location: https://raw.githubusercontent.com/Saafke/EDSR_Tensorflow/master/models/EDSR_x2.pb [following]\n",
            "--2021-01-16 15:56:11--  https://raw.githubusercontent.com/Saafke/EDSR_Tensorflow/master/models/EDSR_x2.pb\n",
            "Resolving raw.githubusercontent.com (raw.githubusercontent.com)... 151.101.0.133, 151.101.64.133, 151.101.128.133, ...\n",
            "Connecting to raw.githubusercontent.com (raw.githubusercontent.com)|151.101.0.133|:443... connected.\n",
            "HTTP request sent, awaiting response... 200 OK\n",
            "Length: 38490162 (37M) [application/octet-stream]\n",
            "Saving to: ‘EDSR_x2.pb’\n",
            "\n",
            "EDSR_x2.pb          100%[===================>]  36.71M  64.8MB/s    in 0.6s    \n",
            "\n",
            "2021-01-16 15:56:12 (64.8 MB/s) - ‘EDSR_x2.pb’ saved [38490162/38490162]\n",
            "\n",
            "--2021-01-16 15:56:12--  https://github.com/fannymonori/TF-LapSRN/raw/master/export/LapSRN_x2.pb\n",
            "Resolving github.com (github.com)... 140.82.114.3\n",
            "Connecting to github.com (github.com)|140.82.114.3|:443... connected.\n",
            "HTTP request sent, awaiting response... 302 Found\n",
            "Location: https://raw.githubusercontent.com/fannymonori/TF-LapSRN/master/export/LapSRN_x2.pb [following]\n",
            "--2021-01-16 15:56:12--  https://raw.githubusercontent.com/fannymonori/TF-LapSRN/master/export/LapSRN_x2.pb\n",
            "Resolving raw.githubusercontent.com (raw.githubusercontent.com)... 151.101.0.133, 151.101.64.133, 151.101.128.133, ...\n",
            "Connecting to raw.githubusercontent.com (raw.githubusercontent.com)|151.101.0.133|:443... connected.\n",
            "HTTP request sent, awaiting response... 200 OK\n",
            "Length: 1356253 (1.3M) [application/octet-stream]\n",
            "Saving to: ‘LapSRN_x2.pb’\n",
            "\n",
            "LapSRN_x2.pb        100%[===================>]   1.29M  --.-KB/s    in 0.09s   \n",
            "\n",
            "2021-01-16 15:56:13 (15.0 MB/s) - ‘LapSRN_x2.pb’ saved [1356253/1356253]\n",
            "\n"
          ],
          "name": "stdout"
        }
      ]
    },
    {
      "cell_type": "code",
      "metadata": {
        "colab": {
          "base_uri": "https://localhost:8080/"
        },
        "id": "K5ElsNe0xTZg",
        "outputId": "0812be3c-4017-405c-e4ad-78480cef2409"
      },
      "source": [
        "!tar xzvf overtime.tar.gz"
      ],
      "execution_count": null,
      "outputs": [
        {
          "output_type": "stream",
          "text": [
            "originals/chapter_131_0.jpg\n",
            "fake_B_5/\n",
            "fake_B_200/chapter_13_14.png\n",
            "fake_B_300/chapter_106_6.png\n",
            "fake_B_400/chapter_10_5.png\n",
            "fake_B_50/chapter_131_0.png\n",
            "gts/chapter_106_6.jpg\n",
            "gts/chapter_10_5.jpg\n",
            "originals/chapter_13_14.jpg\n",
            "fake_B_200/\n",
            "fake_B_200/chapter_106_6.png\n",
            "fake_B_5/chapter_131_0.png\n",
            "fake_B_5/chapter_10_5.png\n",
            "fake_B_200/chapter_10_5.png\n",
            "fake_B_400/chapter_131_0.png\n",
            "fake_B_50/chapter_13_14.png\n",
            "fake_B_300/\n",
            "originals/chapter_106_6.jpg\n",
            "fake_B_400/\n",
            "fake_B_5/chapter_13_14.png\n",
            "fake_B_300/chapter_131_0.png\n",
            "originals/\n",
            "fake_B_50/chapter_10_5.png\n",
            "fake_B_400/chapter_13_14.png\n",
            "fake_B_50/chapter_106_6.png\n",
            "gts/chapter_131_0.jpg\n",
            "fake_B_50/\n",
            "fake_B_300/chapter_10_5.png\n",
            "fake_B_200/chapter_131_0.png\n",
            "originals/chapter_10_5.jpg\n",
            "fake_B_5/chapter_106_6.png\n",
            "fake_B_300/chapter_13_14.png\n",
            "gts/\n",
            "fake_B_400/chapter_106_6.png\n",
            "gts/chapter_13_14.jpg\n"
          ],
          "name": "stdout"
        }
      ]
    },
    {
      "cell_type": "markdown",
      "metadata": {
        "id": "-CrtpIkyxcqm"
      },
      "source": [
        "# Code"
      ]
    },
    {
      "cell_type": "code",
      "metadata": {
        "colab": {
          "base_uri": "https://localhost:8080/"
        },
        "id": "zCrBW9YOzXJm",
        "outputId": "e659f04e-04c7-44d9-b499-a9fca0e77c43"
      },
      "source": [
        "!pip install --upgrade opencv-python\r\n",
        "!pip install --upgrade opencv-contrib-python"
      ],
      "execution_count": null,
      "outputs": [
        {
          "output_type": "stream",
          "text": [
            "Collecting opencv-python\n",
            "\u001b[?25l  Downloading https://files.pythonhosted.org/packages/e0/20/4d78eb1ce337efd609ade8ebe0c82260cd47dd73f8c57dcfe4814c6a3b59/opencv_python-4.5.1.48-cp36-cp36m-manylinux2014_x86_64.whl (50.4MB)\n",
            "\u001b[K     |████████████████████████████████| 50.4MB 81kB/s \n",
            "\u001b[?25hRequirement already satisfied, skipping upgrade: numpy>=1.13.3 in /usr/local/lib/python3.6/dist-packages (from opencv-python) (1.19.5)\n",
            "\u001b[31mERROR: albumentations 0.1.12 has requirement imgaug<0.2.7,>=0.2.5, but you'll have imgaug 0.2.9 which is incompatible.\u001b[0m\n",
            "Installing collected packages: opencv-python\n",
            "  Found existing installation: opencv-python 4.1.2.30\n",
            "    Uninstalling opencv-python-4.1.2.30:\n",
            "      Successfully uninstalled opencv-python-4.1.2.30\n",
            "Successfully installed opencv-python-4.5.1.48\n",
            "Collecting opencv-contrib-python\n",
            "\u001b[?25l  Downloading https://files.pythonhosted.org/packages/a7/01/d801fabd94b9e6b273d851286b209a8b74eff70aec6a4d01aae7fdbca7c4/opencv_contrib_python-4.5.1.48-cp36-cp36m-manylinux2014_x86_64.whl (56.3MB)\n",
            "\u001b[K     |████████████████████████████████| 56.4MB 85kB/s \n",
            "\u001b[?25hRequirement already satisfied, skipping upgrade: numpy>=1.13.3 in /usr/local/lib/python3.6/dist-packages (from opencv-contrib-python) (1.19.5)\n",
            "Installing collected packages: opencv-contrib-python\n",
            "  Found existing installation: opencv-contrib-python 4.1.2.30\n",
            "    Uninstalling opencv-contrib-python-4.1.2.30:\n",
            "      Successfully uninstalled opencv-contrib-python-4.1.2.30\n",
            "Successfully installed opencv-contrib-python-4.5.1.48\n"
          ],
          "name": "stdout"
        }
      ]
    },
    {
      "cell_type": "code",
      "metadata": {
        "id": "SZbMewCutyW6"
      },
      "source": [
        "import cv2\r\n",
        "from cv2 import dnn_superres\r\n",
        "import glob"
      ],
      "execution_count": null,
      "outputs": []
    },
    {
      "cell_type": "code",
      "metadata": {
        "id": "ku53gosyuTRh"
      },
      "source": [
        "def load_sr(model_path, model_name, scale=2):\r\n",
        "  # Create an SR object - only function that differs from c++ code\r\n",
        "  sr = dnn_superres.DnnSuperResImpl_create()\r\n",
        "  # Read the desired model\r\n",
        "  sr.readModel(model_path)\r\n",
        "  # Set the desired model and scale to get correct pre- and post-processing\r\n",
        "  sr.setModel(model_name, scale)\r\n",
        "  return sr"
      ],
      "execution_count": null,
      "outputs": []
    },
    {
      "cell_type": "code",
      "metadata": {
        "id": "NThPftt6vkD3"
      },
      "source": [
        "folders = [\"fake_B_5\", \"fake_B_50\", \"fake_B_200\", \"fake_B_300\", \"fake_B_400\"]\r\n",
        "models = [\r\n",
        "          [\"EDSR_x2.pb\", \"edsr\"],\r\n",
        "          [\"LapSRN_x2.pb\", \"lapsrn\"]\r\n",
        "]"
      ],
      "execution_count": null,
      "outputs": []
    },
    {
      "cell_type": "code",
      "metadata": {
        "colab": {
          "base_uri": "https://localhost:8080/"
        },
        "id": "85UYzKcUuTsK",
        "outputId": "3d25cd55-2bd5-40e7-d259-c9f37e39850a"
      },
      "source": [
        "for model_path, model_name in models:\r\n",
        "  sr = load_sr(model_path, model_name)\r\n",
        "  print(\"Generating for model:\", model_name)\r\n",
        "  for folder in folders:\r\n",
        "    print(\"\\tWorking on folder:\", folder)\r\n",
        "    for image_path in glob.glob(folder + \"/*.png\"):\r\n",
        "      image = cv2.imread(image_path)\r\n",
        "      result = sr.upsample(image)\r\n",
        "      image_name = image_path[image_path.find(\"/\") + 1: image_path.find(\".\")]\r\n",
        "      print(\"\\t\\tUpsampled:\", image_name)\r\n",
        "      dest_image_path = image_path.replace(image_name, image_name + \"_\" + model_name)\r\n",
        "      cv2.imwrite(dest_image_path, result)\r\n"
      ],
      "execution_count": null,
      "outputs": [
        {
          "output_type": "stream",
          "text": [
            "Generating for model: edsr\n",
            "\tWorking on folder: fake_B_5\n",
            "\t\tUpsampled: chapter_13_14\n",
            "\t\tUpsampled: chapter_106_6\n",
            "\t\tUpsampled: chapter_10_5\n",
            "\t\tUpsampled: chapter_131_0\n",
            "\tWorking on folder: fake_B_50\n",
            "\t\tUpsampled: chapter_13_14\n",
            "\t\tUpsampled: chapter_106_6\n",
            "\t\tUpsampled: chapter_10_5\n",
            "\t\tUpsampled: chapter_131_0\n",
            "\tWorking on folder: fake_B_200\n",
            "\t\tUpsampled: chapter_13_14\n",
            "\t\tUpsampled: chapter_106_6\n",
            "\t\tUpsampled: chapter_10_5\n",
            "\t\tUpsampled: chapter_131_0\n",
            "\tWorking on folder: fake_B_300\n",
            "\t\tUpsampled: chapter_13_14\n",
            "\t\tUpsampled: chapter_106_6\n",
            "\t\tUpsampled: chapter_10_5\n",
            "\t\tUpsampled: chapter_131_0\n",
            "\tWorking on folder: fake_B_400\n",
            "\t\tUpsampled: chapter_13_14\n",
            "\t\tUpsampled: chapter_106_6\n",
            "\t\tUpsampled: chapter_10_5\n",
            "\t\tUpsampled: chapter_131_0\n",
            "Generating for model: lapsrn\n",
            "\tWorking on folder: fake_B_5\n",
            "\t\tUpsampled: chapter_13_14\n",
            "\t\tUpsampled: chapter_106_6\n",
            "\t\tUpsampled: chapter_10_5\n",
            "\t\tUpsampled: chapter_10_5_edsr\n",
            "\t\tUpsampled: chapter_131_0_edsr\n",
            "\t\tUpsampled: chapter_131_0\n",
            "\t\tUpsampled: chapter_106_6_edsr\n",
            "\t\tUpsampled: chapter_13_14_edsr\n",
            "\tWorking on folder: fake_B_50\n",
            "\t\tUpsampled: chapter_13_14\n",
            "\t\tUpsampled: chapter_106_6\n",
            "\t\tUpsampled: chapter_10_5\n",
            "\t\tUpsampled: chapter_10_5_edsr\n",
            "\t\tUpsampled: chapter_131_0_edsr\n",
            "\t\tUpsampled: chapter_131_0\n",
            "\t\tUpsampled: chapter_106_6_edsr\n",
            "\t\tUpsampled: chapter_13_14_edsr\n",
            "\tWorking on folder: fake_B_200\n",
            "\t\tUpsampled: chapter_13_14\n",
            "\t\tUpsampled: chapter_106_6\n",
            "\t\tUpsampled: chapter_10_5\n",
            "\t\tUpsampled: chapter_10_5_edsr\n",
            "\t\tUpsampled: chapter_131_0_edsr\n",
            "\t\tUpsampled: chapter_131_0\n",
            "\t\tUpsampled: chapter_106_6_edsr\n",
            "\t\tUpsampled: chapter_13_14_edsr\n",
            "\tWorking on folder: fake_B_300\n",
            "\t\tUpsampled: chapter_13_14\n",
            "\t\tUpsampled: chapter_106_6\n",
            "\t\tUpsampled: chapter_10_5\n",
            "\t\tUpsampled: chapter_10_5_edsr\n",
            "\t\tUpsampled: chapter_131_0_edsr\n",
            "\t\tUpsampled: chapter_131_0\n",
            "\t\tUpsampled: chapter_106_6_edsr\n",
            "\t\tUpsampled: chapter_13_14_edsr\n",
            "\tWorking on folder: fake_B_400\n",
            "\t\tUpsampled: chapter_13_14\n",
            "\t\tUpsampled: chapter_106_6\n",
            "\t\tUpsampled: chapter_10_5\n",
            "\t\tUpsampled: chapter_10_5_edsr\n",
            "\t\tUpsampled: chapter_131_0_edsr\n",
            "\t\tUpsampled: chapter_131_0\n",
            "\t\tUpsampled: chapter_106_6_edsr\n",
            "\t\tUpsampled: chapter_13_14_edsr\n"
          ],
          "name": "stdout"
        }
      ]
    },
    {
      "cell_type": "code",
      "metadata": {
        "colab": {
          "base_uri": "https://localhost:8080/"
        },
        "id": "VXC521McHXBR",
        "outputId": "0fe00054-5759-4d6f-d428-4378bfda0925"
      },
      "source": [
        "!zip -r  tets.zip fake_B_*"
      ],
      "execution_count": null,
      "outputs": [
        {
          "output_type": "stream",
          "text": [
            "  adding: fake_B_200/ (stored 0%)\n",
            "  adding: fake_B_200/chapter_13_14.png (deflated 0%)\n",
            "  adding: fake_B_200/chapter_106_6.png (deflated 0%)\n",
            "  adding: fake_B_200/chapter_10_5.png (deflated 0%)\n",
            "  adding: fake_B_200/chapter_10_5_edsr.png (deflated 2%)\n",
            "  adding: fake_B_200/chapter_131_0_edsr.png (deflated 2%)\n",
            "  adding: fake_B_200/chapter_10_5_edsr_lapsrn.png (deflated 4%)\n",
            "  adding: fake_B_200/chapter_131_0_edsr_lapsrn.png (deflated 5%)\n",
            "  adding: fake_B_200/chapter_131_0_lapsrn.png (deflated 2%)\n",
            "  adding: fake_B_200/chapter_131_0.png (deflated 0%)\n",
            "  adding: fake_B_200/chapter_10_5_lapsrn.png (deflated 1%)\n",
            "  adding: fake_B_200/chapter_106_6_edsr.png (deflated 1%)\n",
            "  adding: fake_B_200/chapter_13_14_lapsrn.png (deflated 2%)\n",
            "  adding: fake_B_200/chapter_106_6_lapsrn.png (deflated 1%)\n",
            "  adding: fake_B_200/chapter_106_6_edsr_lapsrn.png (deflated 3%)\n",
            "  adding: fake_B_200/chapter_13_14_edsr_lapsrn.png (deflated 4%)\n",
            "  adding: fake_B_200/chapter_13_14_edsr.png (deflated 2%)\n",
            "  adding: fake_B_300/ (stored 0%)\n",
            "  adding: fake_B_300/chapter_13_14.png (deflated 0%)\n",
            "  adding: fake_B_300/chapter_106_6.png (deflated 0%)\n",
            "  adding: fake_B_300/chapter_10_5.png (deflated 0%)\n",
            "  adding: fake_B_300/chapter_10_5_edsr.png (deflated 2%)\n",
            "  adding: fake_B_300/chapter_131_0_edsr.png (deflated 3%)\n",
            "  adding: fake_B_300/chapter_10_5_edsr_lapsrn.png (deflated 4%)\n",
            "  adding: fake_B_300/chapter_131_0_edsr_lapsrn.png (deflated 5%)\n",
            "  adding: fake_B_300/chapter_131_0_lapsrn.png (deflated 3%)\n",
            "  adding: fake_B_300/chapter_131_0.png (deflated 0%)\n",
            "  adding: fake_B_300/chapter_10_5_lapsrn.png (deflated 3%)\n",
            "  adding: fake_B_300/chapter_106_6_edsr.png (deflated 2%)\n",
            "  adding: fake_B_300/chapter_13_14_lapsrn.png (deflated 2%)\n",
            "  adding: fake_B_300/chapter_106_6_lapsrn.png (deflated 2%)\n",
            "  adding: fake_B_300/chapter_106_6_edsr_lapsrn.png (deflated 4%)\n",
            "  adding: fake_B_300/chapter_13_14_edsr_lapsrn.png (deflated 4%)\n",
            "  adding: fake_B_300/chapter_13_14_edsr.png (deflated 2%)\n",
            "  adding: fake_B_400/ (stored 0%)\n",
            "  adding: fake_B_400/chapter_13_14.png (deflated 0%)\n",
            "  adding: fake_B_400/chapter_106_6.png (deflated 0%)\n",
            "  adding: fake_B_400/chapter_10_5.png (deflated 0%)\n",
            "  adding: fake_B_400/chapter_10_5_edsr.png (deflated 3%)\n",
            "  adding: fake_B_400/chapter_131_0_edsr.png (deflated 3%)\n",
            "  adding: fake_B_400/chapter_10_5_edsr_lapsrn.png (deflated 5%)\n",
            "  adding: fake_B_400/chapter_131_0_edsr_lapsrn.png (deflated 6%)\n",
            "  adding: fake_B_400/chapter_131_0_lapsrn.png (deflated 3%)\n",
            "  adding: fake_B_400/chapter_131_0.png (deflated 0%)\n",
            "  adding: fake_B_400/chapter_10_5_lapsrn.png (deflated 3%)\n",
            "  adding: fake_B_400/chapter_106_6_edsr.png (deflated 2%)\n",
            "  adding: fake_B_400/chapter_13_14_lapsrn.png (deflated 2%)\n",
            "  adding: fake_B_400/chapter_106_6_lapsrn.png (deflated 2%)\n",
            "  adding: fake_B_400/chapter_106_6_edsr_lapsrn.png (deflated 4%)\n",
            "  adding: fake_B_400/chapter_13_14_edsr_lapsrn.png (deflated 4%)\n",
            "  adding: fake_B_400/chapter_13_14_edsr.png (deflated 3%)\n",
            "  adding: fake_B_5/ (stored 0%)\n",
            "  adding: fake_B_5/chapter_13_14.png (deflated 0%)\n",
            "  adding: fake_B_5/chapter_106_6.png (deflated 0%)\n",
            "  adding: fake_B_5/chapter_10_5.png (deflated 0%)\n",
            "  adding: fake_B_5/chapter_10_5_edsr.png (deflated 1%)\n",
            "  adding: fake_B_5/chapter_131_0_edsr.png (deflated 1%)\n",
            "  adding: fake_B_5/chapter_10_5_edsr_lapsrn.png (deflated 2%)\n",
            "  adding: fake_B_5/chapter_131_0_edsr_lapsrn.png (deflated 2%)\n",
            "  adding: fake_B_5/chapter_131_0_lapsrn.png (deflated 1%)\n",
            "  adding: fake_B_5/chapter_131_0.png (deflated 0%)\n",
            "  adding: fake_B_5/chapter_10_5_lapsrn.png (deflated 1%)\n",
            "  adding: fake_B_5/chapter_106_6_edsr.png (deflated 1%)\n",
            "  adding: fake_B_5/chapter_13_14_lapsrn.png (deflated 1%)\n",
            "  adding: fake_B_5/chapter_106_6_lapsrn.png (deflated 1%)\n",
            "  adding: fake_B_5/chapter_106_6_edsr_lapsrn.png (deflated 2%)\n",
            "  adding: fake_B_5/chapter_13_14_edsr_lapsrn.png (deflated 2%)\n",
            "  adding: fake_B_5/chapter_13_14_edsr.png (deflated 1%)\n",
            "  adding: fake_B_50/ (stored 0%)\n",
            "  adding: fake_B_50/chapter_13_14.png (deflated 0%)\n",
            "  adding: fake_B_50/chapter_106_6.png (deflated 0%)\n",
            "  adding: fake_B_50/chapter_10_5.png (deflated 0%)\n",
            "  adding: fake_B_50/chapter_10_5_edsr.png (deflated 2%)\n",
            "  adding: fake_B_50/chapter_131_0_edsr.png (deflated 3%)\n",
            "  adding: fake_B_50/chapter_10_5_edsr_lapsrn.png (deflated 4%)\n",
            "  adding: fake_B_50/chapter_131_0_edsr_lapsrn.png (deflated 6%)\n",
            "  adding: fake_B_50/chapter_131_0_lapsrn.png (deflated 2%)\n",
            "  adding: fake_B_50/chapter_131_0.png (deflated 0%)\n",
            "  adding: fake_B_50/chapter_10_5_lapsrn.png (deflated 2%)\n",
            "  adding: fake_B_50/chapter_106_6_edsr.png (deflated 2%)\n",
            "  adding: fake_B_50/chapter_13_14_lapsrn.png (deflated 1%)\n",
            "  adding: fake_B_50/chapter_106_6_lapsrn.png (deflated 1%)\n",
            "  adding: fake_B_50/chapter_106_6_edsr_lapsrn.png (deflated 3%)\n",
            "  adding: fake_B_50/chapter_13_14_edsr_lapsrn.png (deflated 4%)\n",
            "  adding: fake_B_50/chapter_13_14_edsr.png (deflated 2%)\n"
          ],
          "name": "stdout"
        }
      ]
    }
  ]
}